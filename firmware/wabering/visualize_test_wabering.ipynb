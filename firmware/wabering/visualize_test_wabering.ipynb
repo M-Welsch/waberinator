{
 "cells": [
  {
   "cell_type": "code",
   "execution_count": 1,
   "id": "d254ef06-15de-4e3c-84ad-997e1d05a671",
   "metadata": {},
   "outputs": [],
   "source": [
    "import subprocess"
   ]
  },
  {
   "cell_type": "code",
   "execution_count": 52,
   "id": "aedc5718-4b35-4857-b8c5-464564c70924",
   "metadata": {},
   "outputs": [
    {
     "data": {
      "text/plain": [
       "CompletedProcess(args='./test_wabering > test_wabering_output', returncode=0)"
      ]
     },
     "execution_count": 52,
     "metadata": {},
     "output_type": "execute_result"
    }
   ],
   "source": [
    "compile_cmd = \"gcc -o test_wabering main.c wabering.c -lm\"\n",
    "compile_waber_cmd = \"gcc -shared -o libwabering.so wabering.c -lm\"\n",
    "run_cmd = \"./test_wabering > test_wabering_output\"\n",
    "\n",
    "subprocess.run(compile_cmd, shell=True)\n",
    "subprocess.run(compile_waber_cmd, shell=True)\n",
    "subprocess.run(run_cmd, shell=True)"
   ]
  },
  {
   "cell_type": "code",
   "execution_count": 53,
   "id": "20d66435-6b6d-4f96-a765-77f87ac21099",
   "metadata": {},
   "outputs": [
    {
     "name": "stdout",
     "output_type": "stream",
     "text": [
      "Result: 0.006692851427942514\n",
      "Result: 0.3775407075881958\n"
     ]
    }
   ],
   "source": [
    "import ctypes\n",
    "\n",
    "class cfg(ctypes.Structure):\n",
    "    _fields_ = [\n",
    "        (\"phase\", ctypes.c_float),\n",
    "        (\"depth\", ctypes.c_float),\n",
    "        (\"frequency\", ctypes.c_float),\n",
    "        (\"brightness\", ctypes.c_float),\n",
    "        (\"smoothness\", ctypes.c_float),\n",
    "    ]\n",
    "\n",
    "# Load the shared library\n",
    "if ctypes.sizeof(ctypes.c_voidp) == 4:\n",
    "    libwabering = ctypes.CDLL('./libwabering.so')  # On 32-bit systems\n",
    "else:\n",
    "    libwabering = ctypes.CDLL('./libwabering.so')  # On 64-bit systems\n",
    "\n",
    "# Specify the argument and return types of the function\n",
    "libwabering._compressor.argtypes = (ctypes.c_float, ctypes.c_float)\n",
    "libwabering._compressor.restype = ctypes.c_float\n",
    "\n",
    "libwabering._waber.argtypes = (ctypes.c_float, (ctypes.POINTER(cfg)))\n",
    "libwabering._waber.restype = ctypes.c_float\n",
    "\n",
    "# Call the function\n",
    "result = libwabering._compressor(0.5, 10)\n",
    "print(\"Result:\", result)\n",
    "\n",
    "_cfg = cfg(0, 1, 1, 1, 1)\n",
    "\n",
    "result = libwabering._waber(1, ctypes.byref(_cfg))\n",
    "print(\"Result:\", result)"
   ]
  },
  {
   "cell_type": "code",
   "execution_count": 54,
   "id": "11e8786d-271b-49a3-aea9-068b357c2e9a",
   "metadata": {},
   "outputs": [],
   "source": [
    "compressorfunc_output = []\n",
    "sinefunc_output = []\n",
    "compressed_sine_output = []\n",
    "waberfunc_float_output = []\n",
    "waberfunc_int_output = []\n",
    "\n",
    "with open('test_wabering_output', 'r') as f:\n",
    "    lines = f.readlines()\n",
    "\n",
    "for line in lines:\n",
    "    if \"Testing Compressorfunc:\" in line:\n",
    "        flist = compressorfunc_output\n",
    "    elif \"Testing Sinefunc:\" in line:\n",
    "        flist = sinefunc_output\n",
    "    elif \"Testing Compressed Sine:\" in line:\n",
    "        flist = compressed_sine_output\n",
    "    elif \"Testing Waberfunc Float:\" in line:\n",
    "        flist = waberfunc_float_output\n",
    "    elif \"Testing Waberfunc Int:\" in line:\n",
    "        flist = waberfunc_int_output\n",
    "    else:\n",
    "        flist.append(float(line.strip().split(',')[1]))\n"
   ]
  },
  {
   "cell_type": "code",
   "execution_count": 55,
   "id": "92facf7b-e83a-4386-ae07-6c1b1b7e3f8e",
   "metadata": {},
   "outputs": [
    {
     "data": {
      "application/vnd.plotly.v1+json": {
       "config": {
        "plotlyServerURL": "https://plot.ly"
       },
       "data": [
        {
         "mode": "lines",
         "name": "sinefunc_output",
         "type": "scatter",
         "xaxis": "x",
         "y": [
          0.5,
          0.603956,
          0.703368,
          0.793893,
          0.871572,
          0.933013,
          0.975528,
          0.997261,
          0.997261,
          0.975528,
          0.933013,
          0.871572,
          0.793893,
          0.703368,
          0.603956,
          0.5,
          0.396044,
          0.296632,
          0.206107,
          0.128428,
          0.066987,
          0.024472,
          0.002739,
          0.002739,
          0.024472,
          0.066987,
          0.128428,
          0.206107,
          0.296632,
          0.396044,
          0.5,
          0.603956,
          0.703368,
          0.793893,
          0.871572,
          0.933013,
          0.975528,
          0.997261,
          0.997261,
          0.975528,
          0.933013,
          0.871572,
          0.793893,
          0.703369,
          0.603956,
          0.5,
          0.396044,
          0.296632,
          0.206107,
          0.128428,
          0.066987,
          0.024472,
          0.002739,
          0.002739,
          0.024472,
          0.066987,
          0.128428,
          0.206107,
          0.296632,
          0.396044,
          0.5,
          0.603956,
          0.703368,
          0.793893,
          0.871572,
          0.933013,
          0.975528,
          0.997261,
          0.997261,
          0.975528,
          0.933013,
          0.871572,
          0.793892,
          0.703368,
          0.603956,
          0.5,
          0.396044,
          0.296632,
          0.206107,
          0.128428,
          0.066987,
          0.024472,
          0.002739,
          0.002739,
          0.024472,
          0.066987,
          0.128427,
          0.206107,
          0.296632,
          0.396044,
          0.5,
          0.603956,
          0.703368,
          0.793893,
          0.871572,
          0.933013,
          0.975528,
          0.997261,
          0.997261,
          0.975528
         ],
         "yaxis": "y"
        },
        {
         "mode": "lines",
         "name": "compressorfunc_output",
         "type": "scatter",
         "xaxis": "x2",
         "y": [
          0,
          0.003162,
          0.006388,
          0.009679,
          0.013036,
          0.016461,
          0.019956,
          0.023521,
          0.027158,
          0.030868,
          0.034653,
          0.038515,
          0.042455,
          0.046475,
          0.050576,
          0.054759,
          0.059027,
          0.063381,
          0.067824,
          0.072356,
          0.076979,
          0.081696,
          0.086508,
          0.091418,
          0.096427,
          0.101536,
          0.106749,
          0.112068,
          0.117493,
          0.123029,
          0.128676,
          0.134437,
          0.140315,
          0.146312,
          0.152429,
          0.15867,
          0.165037,
          0.171533,
          0.17816,
          0.184921,
          0.191819,
          0.198856,
          0.206035,
          0.213359,
          0.220831,
          0.228454,
          0.236231,
          0.244165,
          0.252259,
          0.260517,
          0.268941,
          0.277536,
          0.286305,
          0.29525,
          0.304377,
          0.313687,
          0.323186,
          0.332877,
          0.342763,
          0.352849,
          0.363139,
          0.373637,
          0.384347,
          0.395273,
          0.40642,
          0.417792,
          0.429394,
          0.44123,
          0.453305,
          0.465625,
          0.478193,
          0.491015,
          0.504096,
          0.517441,
          0.531056,
          0.544946,
          0.559116,
          0.573573,
          0.588322,
          0.603369,
          0.618719,
          0.63438,
          0.650357,
          0.666657,
          0.683286,
          0.700252,
          0.71756,
          0.735217,
          0.753231,
          0.771609,
          0.790359,
          0.809487,
          0.829002,
          0.848911,
          0.869222,
          0.889943,
          0.911083,
          0.93265,
          0.954652,
          0.977099
         ],
         "yaxis": "y2"
        },
        {
         "mode": "lines",
         "name": "waberfunc_float_output",
         "type": "scatter",
         "xaxis": "x3",
         "y": [
          0.634471,
          0.683633,
          0.741241,
          0.804654,
          0.869013,
          0.927493,
          0.972379,
          0.996841,
          0.996841,
          0.972379,
          0.927493,
          0.869013,
          0.804654,
          0.741241,
          0.683633,
          0.634471,
          0.594537,
          0.563381,
          0.539924,
          0.522919,
          0.51122,
          0.503926,
          0.50043,
          0.50043,
          0.503926,
          0.51122,
          0.522919,
          0.539924,
          0.563381,
          0.594537,
          0.634471,
          0.683633,
          0.741242,
          0.804654,
          0.869013,
          0.927493,
          0.972379,
          0.996841,
          0.996841,
          0.972379,
          0.927493,
          0.869013,
          0.804654,
          0.741242,
          0.683633,
          0.634471,
          0.594537,
          0.563381,
          0.539924,
          0.522919,
          0.51122,
          0.503926,
          0.50043,
          0.50043,
          0.503926,
          0.51122,
          0.522919,
          0.539924,
          0.563381,
          0.594537,
          0.634471,
          0.683634,
          0.741241,
          0.804654,
          0.869013,
          0.927493,
          0.972379,
          0.996841,
          0.996841,
          0.972379,
          0.927493,
          0.869013,
          0.804654,
          0.741241,
          0.683633,
          0.634471,
          0.594537,
          0.563381,
          0.539924,
          0.522919,
          0.51122,
          0.503926,
          0.50043,
          0.50043,
          0.503926,
          0.51122,
          0.522919,
          0.539924,
          0.563381,
          0.594537,
          0.634471,
          0.683634,
          0.741241,
          0.804654,
          0.869013,
          0.927493,
          0.97238,
          0.996841,
          0.996841,
          0.972379
         ],
         "yaxis": "y3"
        },
        {
         "mode": "lines",
         "name": "waberfunc_int_output",
         "type": "scatter",
         "xaxis": "x4",
         "y": [
          20789,
          22400,
          24288,
          26366,
          28474,
          30391,
          31861,
          32663,
          32663,
          31861,
          30391,
          28474,
          26366,
          24288,
          22400,
          20789,
          19481,
          18460,
          17691,
          17134,
          16751,
          16512,
          16397,
          16397,
          16512,
          16751,
          17134,
          17691,
          18460,
          19481,
          20789,
          22400,
          24288,
          26366,
          28474,
          30391,
          31861,
          32663,
          32663,
          31861,
          30391,
          28474,
          26366,
          24288,
          22400,
          20789,
          19481,
          18460,
          17691,
          17134,
          16751,
          16512,
          16397,
          16397,
          16512,
          16751,
          17134,
          17691,
          18460,
          19481,
          20789,
          22400,
          24288,
          26366,
          28474,
          30391,
          31861,
          32663,
          32663,
          31861,
          30391,
          28474,
          26366,
          24288,
          22400,
          20789,
          19481,
          18460,
          17691,
          17134,
          16751,
          16512,
          16397,
          16397,
          16512,
          16751,
          17134,
          17691,
          18460,
          19481,
          20789,
          22400,
          24288,
          26366,
          28474,
          30391,
          31861,
          32663,
          32663,
          31861
         ],
         "yaxis": "y4"
        }
       ],
       "layout": {
        "annotations": [
         {
          "font": {
           "size": 16
          },
          "showarrow": false,
          "text": "sinefunc_output",
          "x": 0.10625,
          "xanchor": "center",
          "xref": "paper",
          "y": 1,
          "yanchor": "bottom",
          "yref": "paper"
         },
         {
          "font": {
           "size": 16
          },
          "showarrow": false,
          "text": "compressorfunc_output",
          "x": 0.36875,
          "xanchor": "center",
          "xref": "paper",
          "y": 1,
          "yanchor": "bottom",
          "yref": "paper"
         },
         {
          "font": {
           "size": 16
          },
          "showarrow": false,
          "text": "waberfunc_float_output",
          "x": 0.6312500000000001,
          "xanchor": "center",
          "xref": "paper",
          "y": 1,
          "yanchor": "bottom",
          "yref": "paper"
         },
         {
          "font": {
           "size": 16
          },
          "showarrow": false,
          "text": "waberfunc_int_output",
          "x": 0.89375,
          "xanchor": "center",
          "xref": "paper",
          "y": 1,
          "yanchor": "bottom",
          "yref": "paper"
         }
        ],
        "autosize": true,
        "template": {
         "data": {
          "bar": [
           {
            "error_x": {
             "color": "#2a3f5f"
            },
            "error_y": {
             "color": "#2a3f5f"
            },
            "marker": {
             "line": {
              "color": "#E5ECF6",
              "width": 0.5
             },
             "pattern": {
              "fillmode": "overlay",
              "size": 10,
              "solidity": 0.2
             }
            },
            "type": "bar"
           }
          ],
          "barpolar": [
           {
            "marker": {
             "line": {
              "color": "#E5ECF6",
              "width": 0.5
             },
             "pattern": {
              "fillmode": "overlay",
              "size": 10,
              "solidity": 0.2
             }
            },
            "type": "barpolar"
           }
          ],
          "carpet": [
           {
            "aaxis": {
             "endlinecolor": "#2a3f5f",
             "gridcolor": "white",
             "linecolor": "white",
             "minorgridcolor": "white",
             "startlinecolor": "#2a3f5f"
            },
            "baxis": {
             "endlinecolor": "#2a3f5f",
             "gridcolor": "white",
             "linecolor": "white",
             "minorgridcolor": "white",
             "startlinecolor": "#2a3f5f"
            },
            "type": "carpet"
           }
          ],
          "choropleth": [
           {
            "colorbar": {
             "outlinewidth": 0,
             "ticks": ""
            },
            "type": "choropleth"
           }
          ],
          "contour": [
           {
            "colorbar": {
             "outlinewidth": 0,
             "ticks": ""
            },
            "colorscale": [
             [
              0,
              "#0d0887"
             ],
             [
              0.1111111111111111,
              "#46039f"
             ],
             [
              0.2222222222222222,
              "#7201a8"
             ],
             [
              0.3333333333333333,
              "#9c179e"
             ],
             [
              0.4444444444444444,
              "#bd3786"
             ],
             [
              0.5555555555555556,
              "#d8576b"
             ],
             [
              0.6666666666666666,
              "#ed7953"
             ],
             [
              0.7777777777777778,
              "#fb9f3a"
             ],
             [
              0.8888888888888888,
              "#fdca26"
             ],
             [
              1,
              "#f0f921"
             ]
            ],
            "type": "contour"
           }
          ],
          "contourcarpet": [
           {
            "colorbar": {
             "outlinewidth": 0,
             "ticks": ""
            },
            "type": "contourcarpet"
           }
          ],
          "heatmap": [
           {
            "colorbar": {
             "outlinewidth": 0,
             "ticks": ""
            },
            "colorscale": [
             [
              0,
              "#0d0887"
             ],
             [
              0.1111111111111111,
              "#46039f"
             ],
             [
              0.2222222222222222,
              "#7201a8"
             ],
             [
              0.3333333333333333,
              "#9c179e"
             ],
             [
              0.4444444444444444,
              "#bd3786"
             ],
             [
              0.5555555555555556,
              "#d8576b"
             ],
             [
              0.6666666666666666,
              "#ed7953"
             ],
             [
              0.7777777777777778,
              "#fb9f3a"
             ],
             [
              0.8888888888888888,
              "#fdca26"
             ],
             [
              1,
              "#f0f921"
             ]
            ],
            "type": "heatmap"
           }
          ],
          "heatmapgl": [
           {
            "colorbar": {
             "outlinewidth": 0,
             "ticks": ""
            },
            "colorscale": [
             [
              0,
              "#0d0887"
             ],
             [
              0.1111111111111111,
              "#46039f"
             ],
             [
              0.2222222222222222,
              "#7201a8"
             ],
             [
              0.3333333333333333,
              "#9c179e"
             ],
             [
              0.4444444444444444,
              "#bd3786"
             ],
             [
              0.5555555555555556,
              "#d8576b"
             ],
             [
              0.6666666666666666,
              "#ed7953"
             ],
             [
              0.7777777777777778,
              "#fb9f3a"
             ],
             [
              0.8888888888888888,
              "#fdca26"
             ],
             [
              1,
              "#f0f921"
             ]
            ],
            "type": "heatmapgl"
           }
          ],
          "histogram": [
           {
            "marker": {
             "pattern": {
              "fillmode": "overlay",
              "size": 10,
              "solidity": 0.2
             }
            },
            "type": "histogram"
           }
          ],
          "histogram2d": [
           {
            "colorbar": {
             "outlinewidth": 0,
             "ticks": ""
            },
            "colorscale": [
             [
              0,
              "#0d0887"
             ],
             [
              0.1111111111111111,
              "#46039f"
             ],
             [
              0.2222222222222222,
              "#7201a8"
             ],
             [
              0.3333333333333333,
              "#9c179e"
             ],
             [
              0.4444444444444444,
              "#bd3786"
             ],
             [
              0.5555555555555556,
              "#d8576b"
             ],
             [
              0.6666666666666666,
              "#ed7953"
             ],
             [
              0.7777777777777778,
              "#fb9f3a"
             ],
             [
              0.8888888888888888,
              "#fdca26"
             ],
             [
              1,
              "#f0f921"
             ]
            ],
            "type": "histogram2d"
           }
          ],
          "histogram2dcontour": [
           {
            "colorbar": {
             "outlinewidth": 0,
             "ticks": ""
            },
            "colorscale": [
             [
              0,
              "#0d0887"
             ],
             [
              0.1111111111111111,
              "#46039f"
             ],
             [
              0.2222222222222222,
              "#7201a8"
             ],
             [
              0.3333333333333333,
              "#9c179e"
             ],
             [
              0.4444444444444444,
              "#bd3786"
             ],
             [
              0.5555555555555556,
              "#d8576b"
             ],
             [
              0.6666666666666666,
              "#ed7953"
             ],
             [
              0.7777777777777778,
              "#fb9f3a"
             ],
             [
              0.8888888888888888,
              "#fdca26"
             ],
             [
              1,
              "#f0f921"
             ]
            ],
            "type": "histogram2dcontour"
           }
          ],
          "mesh3d": [
           {
            "colorbar": {
             "outlinewidth": 0,
             "ticks": ""
            },
            "type": "mesh3d"
           }
          ],
          "parcoords": [
           {
            "line": {
             "colorbar": {
              "outlinewidth": 0,
              "ticks": ""
             }
            },
            "type": "parcoords"
           }
          ],
          "pie": [
           {
            "automargin": true,
            "type": "pie"
           }
          ],
          "scatter": [
           {
            "fillpattern": {
             "fillmode": "overlay",
             "size": 10,
             "solidity": 0.2
            },
            "type": "scatter"
           }
          ],
          "scatter3d": [
           {
            "line": {
             "colorbar": {
              "outlinewidth": 0,
              "ticks": ""
             }
            },
            "marker": {
             "colorbar": {
              "outlinewidth": 0,
              "ticks": ""
             }
            },
            "type": "scatter3d"
           }
          ],
          "scattercarpet": [
           {
            "marker": {
             "colorbar": {
              "outlinewidth": 0,
              "ticks": ""
             }
            },
            "type": "scattercarpet"
           }
          ],
          "scattergeo": [
           {
            "marker": {
             "colorbar": {
              "outlinewidth": 0,
              "ticks": ""
             }
            },
            "type": "scattergeo"
           }
          ],
          "scattergl": [
           {
            "marker": {
             "colorbar": {
              "outlinewidth": 0,
              "ticks": ""
             }
            },
            "type": "scattergl"
           }
          ],
          "scattermapbox": [
           {
            "marker": {
             "colorbar": {
              "outlinewidth": 0,
              "ticks": ""
             }
            },
            "type": "scattermapbox"
           }
          ],
          "scatterpolar": [
           {
            "marker": {
             "colorbar": {
              "outlinewidth": 0,
              "ticks": ""
             }
            },
            "type": "scatterpolar"
           }
          ],
          "scatterpolargl": [
           {
            "marker": {
             "colorbar": {
              "outlinewidth": 0,
              "ticks": ""
             }
            },
            "type": "scatterpolargl"
           }
          ],
          "scatterternary": [
           {
            "marker": {
             "colorbar": {
              "outlinewidth": 0,
              "ticks": ""
             }
            },
            "type": "scatterternary"
           }
          ],
          "surface": [
           {
            "colorbar": {
             "outlinewidth": 0,
             "ticks": ""
            },
            "colorscale": [
             [
              0,
              "#0d0887"
             ],
             [
              0.1111111111111111,
              "#46039f"
             ],
             [
              0.2222222222222222,
              "#7201a8"
             ],
             [
              0.3333333333333333,
              "#9c179e"
             ],
             [
              0.4444444444444444,
              "#bd3786"
             ],
             [
              0.5555555555555556,
              "#d8576b"
             ],
             [
              0.6666666666666666,
              "#ed7953"
             ],
             [
              0.7777777777777778,
              "#fb9f3a"
             ],
             [
              0.8888888888888888,
              "#fdca26"
             ],
             [
              1,
              "#f0f921"
             ]
            ],
            "type": "surface"
           }
          ],
          "table": [
           {
            "cells": {
             "fill": {
              "color": "#EBF0F8"
             },
             "line": {
              "color": "white"
             }
            },
            "header": {
             "fill": {
              "color": "#C8D4E3"
             },
             "line": {
              "color": "white"
             }
            },
            "type": "table"
           }
          ]
         },
         "layout": {
          "annotationdefaults": {
           "arrowcolor": "#2a3f5f",
           "arrowhead": 0,
           "arrowwidth": 1
          },
          "autotypenumbers": "strict",
          "coloraxis": {
           "colorbar": {
            "outlinewidth": 0,
            "ticks": ""
           }
          },
          "colorscale": {
           "diverging": [
            [
             0,
             "#8e0152"
            ],
            [
             0.1,
             "#c51b7d"
            ],
            [
             0.2,
             "#de77ae"
            ],
            [
             0.3,
             "#f1b6da"
            ],
            [
             0.4,
             "#fde0ef"
            ],
            [
             0.5,
             "#f7f7f7"
            ],
            [
             0.6,
             "#e6f5d0"
            ],
            [
             0.7,
             "#b8e186"
            ],
            [
             0.8,
             "#7fbc41"
            ],
            [
             0.9,
             "#4d9221"
            ],
            [
             1,
             "#276419"
            ]
           ],
           "sequential": [
            [
             0,
             "#0d0887"
            ],
            [
             0.1111111111111111,
             "#46039f"
            ],
            [
             0.2222222222222222,
             "#7201a8"
            ],
            [
             0.3333333333333333,
             "#9c179e"
            ],
            [
             0.4444444444444444,
             "#bd3786"
            ],
            [
             0.5555555555555556,
             "#d8576b"
            ],
            [
             0.6666666666666666,
             "#ed7953"
            ],
            [
             0.7777777777777778,
             "#fb9f3a"
            ],
            [
             0.8888888888888888,
             "#fdca26"
            ],
            [
             1,
             "#f0f921"
            ]
           ],
           "sequentialminus": [
            [
             0,
             "#0d0887"
            ],
            [
             0.1111111111111111,
             "#46039f"
            ],
            [
             0.2222222222222222,
             "#7201a8"
            ],
            [
             0.3333333333333333,
             "#9c179e"
            ],
            [
             0.4444444444444444,
             "#bd3786"
            ],
            [
             0.5555555555555556,
             "#d8576b"
            ],
            [
             0.6666666666666666,
             "#ed7953"
            ],
            [
             0.7777777777777778,
             "#fb9f3a"
            ],
            [
             0.8888888888888888,
             "#fdca26"
            ],
            [
             1,
             "#f0f921"
            ]
           ]
          },
          "colorway": [
           "#636efa",
           "#EF553B",
           "#00cc96",
           "#ab63fa",
           "#FFA15A",
           "#19d3f3",
           "#FF6692",
           "#B6E880",
           "#FF97FF",
           "#FECB52"
          ],
          "font": {
           "color": "#2a3f5f"
          },
          "geo": {
           "bgcolor": "white",
           "lakecolor": "white",
           "landcolor": "#E5ECF6",
           "showlakes": true,
           "showland": true,
           "subunitcolor": "white"
          },
          "hoverlabel": {
           "align": "left"
          },
          "hovermode": "closest",
          "mapbox": {
           "style": "light"
          },
          "paper_bgcolor": "white",
          "plot_bgcolor": "#E5ECF6",
          "polar": {
           "angularaxis": {
            "gridcolor": "white",
            "linecolor": "white",
            "ticks": ""
           },
           "bgcolor": "#E5ECF6",
           "radialaxis": {
            "gridcolor": "white",
            "linecolor": "white",
            "ticks": ""
           }
          },
          "scene": {
           "xaxis": {
            "backgroundcolor": "#E5ECF6",
            "gridcolor": "white",
            "gridwidth": 2,
            "linecolor": "white",
            "showbackground": true,
            "ticks": "",
            "zerolinecolor": "white"
           },
           "yaxis": {
            "backgroundcolor": "#E5ECF6",
            "gridcolor": "white",
            "gridwidth": 2,
            "linecolor": "white",
            "showbackground": true,
            "ticks": "",
            "zerolinecolor": "white"
           },
           "zaxis": {
            "backgroundcolor": "#E5ECF6",
            "gridcolor": "white",
            "gridwidth": 2,
            "linecolor": "white",
            "showbackground": true,
            "ticks": "",
            "zerolinecolor": "white"
           }
          },
          "shapedefaults": {
           "line": {
            "color": "#2a3f5f"
           }
          },
          "ternary": {
           "aaxis": {
            "gridcolor": "white",
            "linecolor": "white",
            "ticks": ""
           },
           "baxis": {
            "gridcolor": "white",
            "linecolor": "white",
            "ticks": ""
           },
           "bgcolor": "#E5ECF6",
           "caxis": {
            "gridcolor": "white",
            "linecolor": "white",
            "ticks": ""
           }
          },
          "title": {
           "x": 0.05
          },
          "xaxis": {
           "automargin": true,
           "gridcolor": "white",
           "linecolor": "white",
           "ticks": "",
           "title": {
            "standoff": 15
           },
           "zerolinecolor": "white",
           "zerolinewidth": 2
          },
          "yaxis": {
           "automargin": true,
           "gridcolor": "white",
           "linecolor": "white",
           "ticks": "",
           "title": {
            "standoff": 15
           },
           "zerolinecolor": "white",
           "zerolinewidth": 2
          }
         }
        },
        "xaxis": {
         "anchor": "y",
         "autorange": true,
         "domain": [
          0,
          0.2125
         ],
         "range": [
          0,
          99
         ]
        },
        "xaxis2": {
         "anchor": "y2",
         "autorange": true,
         "domain": [
          0.2625,
          0.475
         ],
         "range": [
          0,
          99
         ]
        },
        "xaxis3": {
         "anchor": "y3",
         "autorange": true,
         "domain": [
          0.525,
          0.7375
         ],
         "range": [
          0,
          99
         ]
        },
        "xaxis4": {
         "anchor": "y4",
         "autorange": true,
         "domain": [
          0.7875,
          1
         ],
         "range": [
          0,
          99
         ]
        },
        "yaxis": {
         "anchor": "x",
         "autorange": true,
         "domain": [
          0,
          1
         ],
         "range": [
          0,
          1.0497484210526316
         ],
         "rangemode": "tozero",
         "type": "linear"
        },
        "yaxis2": {
         "anchor": "x2",
         "autorange": true,
         "domain": [
          0,
          1
         ],
         "range": [
          0,
          1.0285252631578947
         ],
         "rangemode": "tozero",
         "type": "linear"
        },
        "yaxis3": {
         "anchor": "x3",
         "autorange": true,
         "domain": [
          0,
          1
         ],
         "range": [
          0,
          1.0493063157894738
         ],
         "rangemode": "tozero",
         "type": "linear"
        },
        "yaxis4": {
         "anchor": "x4",
         "autorange": true,
         "domain": [
          0,
          1
         ],
         "range": [
          0,
          34382.10526315789
         ],
         "rangemode": "tozero",
         "type": "linear"
        }
       }
      },
      "image/png": "[encoded data removed]",
      "text/html": [
       "<div>                            <div id=\"7e9970dc-f867-4671-8a51-cd390936a4c7\" class=\"plotly-graph-div\" style=\"height:525px; width:100%;\"></div>            <script type=\"text/javascript\">                require([\"plotly\"], function(Plotly) {                    window.PLOTLYENV=window.PLOTLYENV || {};                                    if (document.getElementById(\"7e9970dc-f867-4671-8a51-cd390936a4c7\")) {                    Plotly.newPlot(                        \"7e9970dc-f867-4671-8a51-cd390936a4c7\",                        [{\"mode\":\"lines\",\"name\":\"sinefunc_output\",\"y\":[0.5,0.603956,0.703368,0.793893,0.871572,0.933013,0.975528,0.997261,0.997261,0.975528,0.933013,0.871572,0.793893,0.703368,0.603956,0.5,0.396044,0.296632,0.206107,0.128428,0.066987,0.024472,0.002739,0.002739,0.024472,0.066987,0.128428,0.206107,0.296632,0.396044,0.5,0.603956,0.703368,0.793893,0.871572,0.933013,0.975528,0.997261,0.997261,0.975528,0.933013,0.871572,0.793893,0.703369,0.603956,0.5,0.396044,0.296632,0.206107,0.128428,0.066987,0.024472,0.002739,0.002739,0.024472,0.066987,0.128428,0.206107,0.296632,0.396044,0.5,0.603956,0.703368,0.793893,0.871572,0.933013,0.975528,0.997261,0.997261,0.975528,0.933013,0.871572,0.793892,0.703368,0.603956,0.5,0.396044,0.296632,0.206107,0.128428,0.066987,0.024472,0.002739,0.002739,0.024472,0.066987,0.128427,0.206107,0.296632,0.396044,0.5,0.603956,0.703368,0.793893,0.871572,0.933013,0.975528,0.997261,0.997261,0.975528],\"type\":\"scatter\",\"xaxis\":\"x\",\"yaxis\":\"y\"},{\"mode\":\"lines\",\"name\":\"compressorfunc_output\",\"y\":[0.0,0.003162,0.006388,0.009679,0.013036,0.016461,0.019956,0.023521,0.027158,0.030868,0.034653,0.038515,0.042455,0.046475,0.050576,0.054759,0.059027,0.063381,0.067824,0.072356,0.076979,0.081696,0.086508,0.091418,0.096427,0.101536,0.106749,0.112068,0.117493,0.123029,0.128676,0.134437,0.140315,0.146312,0.152429,0.15867,0.165037,0.171533,0.17816,0.184921,0.191819,0.198856,0.206035,0.213359,0.220831,0.228454,0.236231,0.244165,0.252259,0.260517,0.268941,0.277536,0.286305,0.29525,0.304377,0.313687,0.323186,0.332877,0.342763,0.352849,0.363139,0.373637,0.384347,0.395273,0.40642,0.417792,0.429394,0.44123,0.453305,0.465625,0.478193,0.491015,0.504096,0.517441,0.531056,0.544946,0.559116,0.573573,0.588322,0.603369,0.618719,0.63438,0.650357,0.666657,0.683286,0.700252,0.71756,0.735217,0.753231,0.771609,0.790359,0.809487,0.829002,0.848911,0.869222,0.889943,0.911083,0.93265,0.954652,0.977099],\"type\":\"scatter\",\"xaxis\":\"x2\",\"yaxis\":\"y2\"},{\"mode\":\"lines\",\"name\":\"waberfunc_float_output\",\"y\":[0.634471,0.683633,0.741241,0.804654,0.869013,0.927493,0.972379,0.996841,0.996841,0.972379,0.927493,0.869013,0.804654,0.741241,0.683633,0.634471,0.594537,0.563381,0.539924,0.522919,0.51122,0.503926,0.50043,0.50043,0.503926,0.51122,0.522919,0.539924,0.563381,0.594537,0.634471,0.683633,0.741242,0.804654,0.869013,0.927493,0.972379,0.996841,0.996841,0.972379,0.927493,0.869013,0.804654,0.741242,0.683633,0.634471,0.594537,0.563381,0.539924,0.522919,0.51122,0.503926,0.50043,0.50043,0.503926,0.51122,0.522919,0.539924,0.563381,0.594537,0.634471,0.683634,0.741241,0.804654,0.869013,0.927493,0.972379,0.996841,0.996841,0.972379,0.927493,0.869013,0.804654,0.741241,0.683633,0.634471,0.594537,0.563381,0.539924,0.522919,0.51122,0.503926,0.50043,0.50043,0.503926,0.51122,0.522919,0.539924,0.563381,0.594537,0.634471,0.683634,0.741241,0.804654,0.869013,0.927493,0.97238,0.996841,0.996841,0.972379],\"type\":\"scatter\",\"xaxis\":\"x3\",\"yaxis\":\"y3\"},{\"mode\":\"lines\",\"name\":\"waberfunc_int_output\",\"y\":[20789.0,22400.0,24288.0,26366.0,28474.0,30391.0,31861.0,32663.0,32663.0,31861.0,30391.0,28474.0,26366.0,24288.0,22400.0,20789.0,19481.0,18460.0,17691.0,17134.0,16751.0,16512.0,16397.0,16397.0,16512.0,16751.0,17134.0,17691.0,18460.0,19481.0,20789.0,22400.0,24288.0,26366.0,28474.0,30391.0,31861.0,32663.0,32663.0,31861.0,30391.0,28474.0,26366.0,24288.0,22400.0,20789.0,19481.0,18460.0,17691.0,17134.0,16751.0,16512.0,16397.0,16397.0,16512.0,16751.0,17134.0,17691.0,18460.0,19481.0,20789.0,22400.0,24288.0,26366.0,28474.0,30391.0,31861.0,32663.0,32663.0,31861.0,30391.0,28474.0,26366.0,24288.0,22400.0,20789.0,19481.0,18460.0,17691.0,17134.0,16751.0,16512.0,16397.0,16397.0,16512.0,16751.0,17134.0,17691.0,18460.0,19481.0,20789.0,22400.0,24288.0,26366.0,28474.0,30391.0,31861.0,32663.0,32663.0,31861.0],\"type\":\"scatter\",\"xaxis\":\"x4\",\"yaxis\":\"y4\"}],                        {\"template\":{\"data\":{\"histogram2dcontour\":[{\"type\":\"histogram2dcontour\",\"colorbar\":{\"outlinewidth\":0,\"ticks\":\"\"},\"colorscale\":[[0.0,\"#0d0887\"],[0.1111111111111111,\"#46039f\"],[0.2222222222222222,\"#7201a8\"],[0.3333333333333333,\"#9c179e\"],[0.4444444444444444,\"#bd3786\"],[0.5555555555555556,\"#d8576b\"],[0.6666666666666666,\"#ed7953\"],[0.7777777777777778,\"#fb9f3a\"],[0.8888888888888888,\"#fdca26\"],[1.0,\"#f0f921\"]]}],\"choropleth\":[{\"type\":\"choropleth\",\"colorbar\":{\"outlinewidth\":0,\"ticks\":\"\"}}],\"histogram2d\":[{\"type\":\"histogram2d\",\"colorbar\":{\"outlinewidth\":0,\"ticks\":\"\"},\"colorscale\":[[0.0,\"#0d0887\"],[0.1111111111111111,\"#46039f\"],[0.2222222222222222,\"#7201a8\"],[0.3333333333333333,\"#9c179e\"],[0.4444444444444444,\"#bd3786\"],[0.5555555555555556,\"#d8576b\"],[0.6666666666666666,\"#ed7953\"],[0.7777777777777778,\"#fb9f3a\"],[0.8888888888888888,\"#fdca26\"],[1.0,\"#f0f921\"]]}],\"heatmap\":[{\"type\":\"heatmap\",\"colorbar\":{\"outlinewidth\":0,\"ticks\":\"\"},\"colorscale\":[[0.0,\"#0d0887\"],[0.1111111111111111,\"#46039f\"],[0.2222222222222222,\"#7201a8\"],[0.3333333333333333,\"#9c179e\"],[0.4444444444444444,\"#bd3786\"],[0.5555555555555556,\"#d8576b\"],[0.6666666666666666,\"#ed7953\"],[0.7777777777777778,\"#fb9f3a\"],[0.8888888888888888,\"#fdca26\"],[1.0,\"#f0f921\"]]}],\"heatmapgl\":[{\"type\":\"heatmapgl\",\"colorbar\":{\"outlinewidth\":0,\"ticks\":\"\"},\"colorscale\":[[0.0,\"#0d0887\"],[0.1111111111111111,\"#46039f\"],[0.2222222222222222,\"#7201a8\"],[0.3333333333333333,\"#9c179e\"],[0.4444444444444444,\"#bd3786\"],[0.5555555555555556,\"#d8576b\"],[0.6666666666666666,\"#ed7953\"],[0.7777777777777778,\"#fb9f3a\"],[0.8888888888888888,\"#fdca26\"],[1.0,\"#f0f921\"]]}],\"contourcarpet\":[{\"type\":\"contourcarpet\",\"colorbar\":{\"outlinewidth\":0,\"ticks\":\"\"}}],\"contour\":[{\"type\":\"contour\",\"colorbar\":{\"outlinewidth\":0,\"ticks\":\"\"},\"colorscale\":[[0.0,\"#0d0887\"],[0.1111111111111111,\"#46039f\"],[0.2222222222222222,\"#7201a8\"],[0.3333333333333333,\"#9c179e\"],[0.4444444444444444,\"#bd3786\"],[0.5555555555555556,\"#d8576b\"],[0.6666666666666666,\"#ed7953\"],[0.7777777777777778,\"#fb9f3a\"],[0.8888888888888888,\"#fdca26\"],[1.0,\"#f0f921\"]]}],\"surface\":[{\"type\":\"surface\",\"colorbar\":{\"outlinewidth\":0,\"ticks\":\"\"},\"colorscale\":[[0.0,\"#0d0887\"],[0.1111111111111111,\"#46039f\"],[0.2222222222222222,\"#7201a8\"],[0.3333333333333333,\"#9c179e\"],[0.4444444444444444,\"#bd3786\"],[0.5555555555555556,\"#d8576b\"],[0.6666666666666666,\"#ed7953\"],[0.7777777777777778,\"#fb9f3a\"],[0.8888888888888888,\"#fdca26\"],[1.0,\"#f0f921\"]]}],\"mesh3d\":[{\"type\":\"mesh3d\",\"colorbar\":{\"outlinewidth\":0,\"ticks\":\"\"}}],\"scatter\":[{\"fillpattern\":{\"fillmode\":\"overlay\",\"size\":10,\"solidity\":0.2},\"type\":\"scatter\"}],\"parcoords\":[{\"type\":\"parcoords\",\"line\":{\"colorbar\":{\"outlinewidth\":0,\"ticks\":\"\"}}}],\"scatterpolargl\":[{\"type\":\"scatterpolargl\",\"marker\":{\"colorbar\":{\"outlinewidth\":0,\"ticks\":\"\"}}}],\"bar\":[{\"error_x\":{\"color\":\"#2a3f5f\"},\"error_y\":{\"color\":\"#2a3f5f\"},\"marker\":{\"line\":{\"color\":\"#E5ECF6\",\"width\":0.5},\"pattern\":{\"fillmode\":\"overlay\",\"size\":10,\"solidity\":0.2}},\"type\":\"bar\"}],\"scattergeo\":[{\"type\":\"scattergeo\",\"marker\":{\"colorbar\":{\"outlinewidth\":0,\"ticks\":\"\"}}}],\"scatterpolar\":[{\"type\":\"scatterpolar\",\"marker\":{\"colorbar\":{\"outlinewidth\":0,\"ticks\":\"\"}}}],\"histogram\":[{\"marker\":{\"pattern\":{\"fillmode\":\"overlay\",\"size\":10,\"solidity\":0.2}},\"type\":\"histogram\"}],\"scattergl\":[{\"type\":\"scattergl\",\"marker\":{\"colorbar\":{\"outlinewidth\":0,\"ticks\":\"\"}}}],\"scatter3d\":[{\"type\":\"scatter3d\",\"line\":{\"colorbar\":{\"outlinewidth\":0,\"ticks\":\"\"}},\"marker\":{\"colorbar\":{\"outlinewidth\":0,\"ticks\":\"\"}}}],\"scattermapbox\":[{\"type\":\"scattermapbox\",\"marker\":{\"colorbar\":{\"outlinewidth\":0,\"ticks\":\"\"}}}],\"scatterternary\":[{\"type\":\"scatterternary\",\"marker\":{\"colorbar\":{\"outlinewidth\":0,\"ticks\":\"\"}}}],\"scattercarpet\":[{\"type\":\"scattercarpet\",\"marker\":{\"colorbar\":{\"outlinewidth\":0,\"ticks\":\"\"}}}],\"carpet\":[{\"aaxis\":{\"endlinecolor\":\"#2a3f5f\",\"gridcolor\":\"white\",\"linecolor\":\"white\",\"minorgridcolor\":\"white\",\"startlinecolor\":\"#2a3f5f\"},\"baxis\":{\"endlinecolor\":\"#2a3f5f\",\"gridcolor\":\"white\",\"linecolor\":\"white\",\"minorgridcolor\":\"white\",\"startlinecolor\":\"#2a3f5f\"},\"type\":\"carpet\"}],\"table\":[{\"cells\":{\"fill\":{\"color\":\"#EBF0F8\"},\"line\":{\"color\":\"white\"}},\"header\":{\"fill\":{\"color\":\"#C8D4E3\"},\"line\":{\"color\":\"white\"}},\"type\":\"table\"}],\"barpolar\":[{\"marker\":{\"line\":{\"color\":\"#E5ECF6\",\"width\":0.5},\"pattern\":{\"fillmode\":\"overlay\",\"size\":10,\"solidity\":0.2}},\"type\":\"barpolar\"}],\"pie\":[{\"automargin\":true,\"type\":\"pie\"}]},\"layout\":{\"autotypenumbers\":\"strict\",\"colorway\":[\"#636efa\",\"#EF553B\",\"#00cc96\",\"#ab63fa\",\"#FFA15A\",\"#19d3f3\",\"#FF6692\",\"#B6E880\",\"#FF97FF\",\"#FECB52\"],\"font\":{\"color\":\"#2a3f5f\"},\"hovermode\":\"closest\",\"hoverlabel\":{\"align\":\"left\"},\"paper_bgcolor\":\"white\",\"plot_bgcolor\":\"#E5ECF6\",\"polar\":{\"bgcolor\":\"#E5ECF6\",\"angularaxis\":{\"gridcolor\":\"white\",\"linecolor\":\"white\",\"ticks\":\"\"},\"radialaxis\":{\"gridcolor\":\"white\",\"linecolor\":\"white\",\"ticks\":\"\"}},\"ternary\":{\"bgcolor\":\"#E5ECF6\",\"aaxis\":{\"gridcolor\":\"white\",\"linecolor\":\"white\",\"ticks\":\"\"},\"baxis\":{\"gridcolor\":\"white\",\"linecolor\":\"white\",\"ticks\":\"\"},\"caxis\":{\"gridcolor\":\"white\",\"linecolor\":\"white\",\"ticks\":\"\"}},\"coloraxis\":{\"colorbar\":{\"outlinewidth\":0,\"ticks\":\"\"}},\"colorscale\":{\"sequential\":[[0.0,\"#0d0887\"],[0.1111111111111111,\"#46039f\"],[0.2222222222222222,\"#7201a8\"],[0.3333333333333333,\"#9c179e\"],[0.4444444444444444,\"#bd3786\"],[0.5555555555555556,\"#d8576b\"],[0.6666666666666666,\"#ed7953\"],[0.7777777777777778,\"#fb9f3a\"],[0.8888888888888888,\"#fdca26\"],[1.0,\"#f0f921\"]],\"sequentialminus\":[[0.0,\"#0d0887\"],[0.1111111111111111,\"#46039f\"],[0.2222222222222222,\"#7201a8\"],[0.3333333333333333,\"#9c179e\"],[0.4444444444444444,\"#bd3786\"],[0.5555555555555556,\"#d8576b\"],[0.6666666666666666,\"#ed7953\"],[0.7777777777777778,\"#fb9f3a\"],[0.8888888888888888,\"#fdca26\"],[1.0,\"#f0f921\"]],\"diverging\":[[0,\"#8e0152\"],[0.1,\"#c51b7d\"],[0.2,\"#de77ae\"],[0.3,\"#f1b6da\"],[0.4,\"#fde0ef\"],[0.5,\"#f7f7f7\"],[0.6,\"#e6f5d0\"],[0.7,\"#b8e186\"],[0.8,\"#7fbc41\"],[0.9,\"#4d9221\"],[1,\"#276419\"]]},\"xaxis\":{\"gridcolor\":\"white\",\"linecolor\":\"white\",\"ticks\":\"\",\"title\":{\"standoff\":15},\"zerolinecolor\":\"white\",\"automargin\":true,\"zerolinewidth\":2},\"yaxis\":{\"gridcolor\":\"white\",\"linecolor\":\"white\",\"ticks\":\"\",\"title\":{\"standoff\":15},\"zerolinecolor\":\"white\",\"automargin\":true,\"zerolinewidth\":2},\"scene\":{\"xaxis\":{\"backgroundcolor\":\"#E5ECF6\",\"gridcolor\":\"white\",\"linecolor\":\"white\",\"showbackground\":true,\"ticks\":\"\",\"zerolinecolor\":\"white\",\"gridwidth\":2},\"yaxis\":{\"backgroundcolor\":\"#E5ECF6\",\"gridcolor\":\"white\",\"linecolor\":\"white\",\"showbackground\":true,\"ticks\":\"\",\"zerolinecolor\":\"white\",\"gridwidth\":2},\"zaxis\":{\"backgroundcolor\":\"#E5ECF6\",\"gridcolor\":\"white\",\"linecolor\":\"white\",\"showbackground\":true,\"ticks\":\"\",\"zerolinecolor\":\"white\",\"gridwidth\":2}},\"shapedefaults\":{\"line\":{\"color\":\"#2a3f5f\"}},\"annotationdefaults\":{\"arrowcolor\":\"#2a3f5f\",\"arrowhead\":0,\"arrowwidth\":1},\"geo\":{\"bgcolor\":\"white\",\"landcolor\":\"#E5ECF6\",\"subunitcolor\":\"white\",\"showland\":true,\"showlakes\":true,\"lakecolor\":\"white\"},\"title\":{\"x\":0.05},\"mapbox\":{\"style\":\"light\"}}},\"xaxis\":{\"anchor\":\"y\",\"domain\":[0.0,0.2125]},\"yaxis\":{\"anchor\":\"x\",\"domain\":[0.0,1.0],\"rangemode\":\"tozero\"},\"xaxis2\":{\"anchor\":\"y2\",\"domain\":[0.2625,0.475]},\"yaxis2\":{\"anchor\":\"x2\",\"domain\":[0.0,1.0],\"rangemode\":\"tozero\"},\"xaxis3\":{\"anchor\":\"y3\",\"domain\":[0.525,0.7375]},\"yaxis3\":{\"anchor\":\"x3\",\"domain\":[0.0,1.0],\"rangemode\":\"tozero\"},\"xaxis4\":{\"anchor\":\"y4\",\"domain\":[0.7875,1.0]},\"yaxis4\":{\"anchor\":\"x4\",\"domain\":[0.0,1.0],\"rangemode\":\"tozero\"},\"annotations\":[{\"font\":{\"size\":16},\"showarrow\":false,\"text\":\"sinefunc_output\",\"x\":0.10625,\"xanchor\":\"center\",\"xref\":\"paper\",\"y\":1.0,\"yanchor\":\"bottom\",\"yref\":\"paper\"},{\"font\":{\"size\":16},\"showarrow\":false,\"text\":\"compressorfunc_output\",\"x\":0.36875,\"xanchor\":\"center\",\"xref\":\"paper\",\"y\":1.0,\"yanchor\":\"bottom\",\"yref\":\"paper\"},{\"font\":{\"size\":16},\"showarrow\":false,\"text\":\"waberfunc_float_output\",\"x\":0.6312500000000001,\"xanchor\":\"center\",\"xref\":\"paper\",\"y\":1.0,\"yanchor\":\"bottom\",\"yref\":\"paper\"},{\"font\":{\"size\":16},\"showarrow\":false,\"text\":\"waberfunc_int_output\",\"x\":0.89375,\"xanchor\":\"center\",\"xref\":\"paper\",\"y\":1.0,\"yanchor\":\"bottom\",\"yref\":\"paper\"}]},                        {\"responsive\": true}                    ).then(function(){\n",
       "                            \n",
       "var gd = document.getElementById('7e9970dc-f867-4671-8a51-cd390936a4c7');\n",
       "var x = new MutationObserver(function (mutations, observer) {{\n",
       "        var display = window.getComputedStyle(gd).display;\n",
       "        if (!display || display === 'none') {{\n",
       "            console.log([gd, 'removed!']);\n",
       "            Plotly.purge(gd);\n",
       "            observer.disconnect();\n",
       "        }}\n",
       "}});\n",
       "\n",
       "// Listen for the removal of the full notebook cells\n",
       "var notebookContainer = gd.closest('#notebook-container');\n",
       "if (notebookContainer) {{\n",
       "    x.observe(notebookContainer, {childList: true});\n",
       "}}\n",
       "\n",
       "// Listen for the clearing of the current output cell\n",
       "var outputEl = gd.closest('.output');\n",
       "if (outputEl) {{\n",
       "    x.observe(outputEl, {childList: true});\n",
       "}}\n",
       "\n",
       "                        })                };                });            </script>        </div>"
      ]
     },
     "metadata": {},
     "output_type": "display_data"
    }
   ],
   "source": [
    "import plotly.graph_objs as go\n",
    "from plotly.subplots import make_subplots\n",
    "\n",
    "bms_traces = [\n",
    "  go.Scatter(y=sinefunc_output, mode=\"lines\", name=\"sinefunc_output\"),\n",
    "  go.Scatter(y=compressorfunc_output, mode=\"lines\", name=\"compressorfunc_output\"),\n",
    "  go.Scatter(y=waberfunc_float_output, mode=\"lines\", name=\"waberfunc_float_output\"),\n",
    "  go.Scatter(y=waberfunc_int_output, mode=\"lines\", name=\"waberfunc_int_output\"),\n",
    "]\n",
    "\n",
    "fig = make_subplots(rows=1, cols=4, subplot_titles=[\"sinefunc_output\", \"compressorfunc_output\", \"waberfunc_float_output\", \"waberfunc_int_output\"])\n",
    "\n",
    "for idx, bms_trace in enumerate(bms_traces):  # see example above\n",
    "\tfig.add_trace(bms_trace, row=1, col=idx+1)\n",
    "\n",
    "#fig.update_layout(\n",
    "#  title='Test Output', \n",
    "  #yaxis=dict(title='return')\n",
    "#)\n",
    "fig.update_yaxes(rangemode=\"tozero\") \n",
    "fig.show()"
   ]
  },
  {
   "cell_type": "code",
   "execution_count": null,
   "id": "d105c84b-2a0d-4acc-a4ed-f9df41926593",
   "metadata": {},
   "outputs": [],
   "source": []
  },
  {
   "cell_type": "code",
   "execution_count": null,
   "id": "4ac1b18d-8fce-4731-9c1c-59e5962abfbb",
   "metadata": {},
   "outputs": [],
   "source": []
  }
 ],
 "metadata": {
  "kernelspec": {
   "display_name": "Python 3 (ipykernel)",
   "language": "python",
   "name": "python3"
  },
  "language_info": {
   "codemirror_mode": {
    "name": "ipython",
    "version": 3
   },
   "file_extension": ".py",
   "mimetype": "text/x-python",
   "name": "python",
   "nbconvert_exporter": "python",
   "pygments_lexer": "ipython3",
   "version": "3.12.1"
  }
 },
 "nbformat": 4,
 "nbformat_minor": 5
}
